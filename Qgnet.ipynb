{
  "nbformat": 4,
  "nbformat_minor": 0,
  "metadata": {
    "colab": {
      "name": "Qgnet.ipynb",
      "provenance": [],
      "authorship_tag": "ABX9TyPmhWTkWMPoGqX/pFT6PK+/",
      "include_colab_link": true
    },
    "kernelspec": {
      "name": "python3",
      "display_name": "Python 3"
    },
    "accelerator": "GPU"
  },
  "cells": [
    {
      "cell_type": "markdown",
      "metadata": {
        "id": "view-in-github",
        "colab_type": "text"
      },
      "source": [
        "<a href=\"https://colab.research.google.com/github/kurianbenoy/opportunity-handbook/blob/master/Qgnet.ipynb\" target=\"_parent\"><img src=\"https://colab.research.google.com/assets/colab-badge.svg\" alt=\"Open In Colab\"/></a>"
      ]
    },
    {
      "cell_type": "code",
      "metadata": {
        "id": "4L_iBYGvx4o0",
        "colab_type": "code",
        "colab": {
          "base_uri": "https://localhost:8080/",
          "height": 312
        },
        "outputId": "cc0065fc-0fc9-43ec-d8b2-3c755ba986c4"
      },
      "source": [
        "! nvidia-smi"
      ],
      "execution_count": 14,
      "outputs": [
        {
          "output_type": "stream",
          "text": [
            "Thu Jun  4 15:03:50 2020       \n",
            "+-----------------------------------------------------------------------------+\n",
            "| NVIDIA-SMI 440.82       Driver Version: 418.67       CUDA Version: 10.1     |\n",
            "|-------------------------------+----------------------+----------------------+\n",
            "| GPU  Name        Persistence-M| Bus-Id        Disp.A | Volatile Uncorr. ECC |\n",
            "| Fan  Temp  Perf  Pwr:Usage/Cap|         Memory-Usage | GPU-Util  Compute M. |\n",
            "|===============================+======================+======================|\n",
            "|   0  Tesla P4            Off  | 00000000:00:04.0 Off |                    0 |\n",
            "| N/A   33C    P8     7W /  75W |      0MiB /  7611MiB |      0%      Default |\n",
            "+-------------------------------+----------------------+----------------------+\n",
            "                                                                               \n",
            "+-----------------------------------------------------------------------------+\n",
            "| Processes:                                                       GPU Memory |\n",
            "|  GPU       PID   Type   Process name                             Usage      |\n",
            "|=============================================================================|\n",
            "|  No running processes found                                                 |\n",
            "+-----------------------------------------------------------------------------+\n"
          ],
          "name": "stdout"
        }
      ]
    },
    {
      "cell_type": "code",
      "metadata": {
        "id": "0lT-Ex9myGHx",
        "colab_type": "code",
        "colab": {
          "base_uri": "https://localhost:8080/",
          "height": 139
        },
        "outputId": "6cfc4817-aee1-4bd6-ac7b-46b0e3fc1509"
      },
      "source": [
        "! git clone https://github.com/moonlightlane/QG-Net.git"
      ],
      "execution_count": 2,
      "outputs": [
        {
          "output_type": "stream",
          "text": [
            "Cloning into 'QG-Net'...\n",
            "remote: Enumerating objects: 22, done.\u001b[K\n",
            "remote: Counting objects: 100% (22/22), done.\u001b[K\n",
            "remote: Compressing objects: 100% (22/22), done.\u001b[K\n",
            "remote: Total 180 (delta 11), reused 0 (delta 0), pack-reused 158\u001b[K\n",
            "Receiving objects: 100% (180/180), 65.33 MiB | 10.13 MiB/s, done.\n",
            "Resolving deltas: 100% (54/54), done.\n"
          ],
          "name": "stdout"
        }
      ]
    },
    {
      "cell_type": "code",
      "metadata": {
        "id": "TZ4HvRH2yTGy",
        "colab_type": "code",
        "colab": {
          "base_uri": "https://localhost:8080/",
          "height": 34
        },
        "outputId": "ae6b69bf-e2c6-432d-d85e-7998582dfcee"
      },
      "source": [
        "! conda"
      ],
      "execution_count": 3,
      "outputs": [
        {
          "output_type": "stream",
          "text": [
            "/bin/bash: conda: command not found\n"
          ],
          "name": "stdout"
        }
      ]
    },
    {
      "cell_type": "code",
      "metadata": {
        "id": "zOUap69ZyZkI",
        "colab_type": "code",
        "colab": {
          "base_uri": "https://localhost:8080/",
          "height": 1000
        },
        "outputId": "c18c8e11-d826-4e5e-9b30-cdb01244fa71"
      },
      "source": [
        "# same\n",
        "!wget -c https://repo.anaconda.com/miniconda/Miniconda3-4.5.4-Linux-x86_64.sh\n",
        "!chmod +x Miniconda3-4.5.4-Linux-x86_64.sh\n",
        "!bash ./Miniconda3-4.5.4-Linux-x86_64.sh -b -f -p /usr/local\n",
        "# update 1\n",
        "!conda install -q -y --prefix /usr/local python=3.6 ujson"
      ],
      "execution_count": 4,
      "outputs": [
        {
          "output_type": "stream",
          "text": [
            "--2020-06-04 14:44:43--  https://repo.anaconda.com/miniconda/Miniconda3-4.5.4-Linux-x86_64.sh\n",
            "Resolving repo.anaconda.com (repo.anaconda.com)... 104.16.130.3, 104.16.131.3, 2606:4700::6810:8303, ...\n",
            "Connecting to repo.anaconda.com (repo.anaconda.com)|104.16.130.3|:443... connected.\n",
            "HTTP request sent, awaiting response... 200 OK\n",
            "Length: 58468498 (56M) [application/x-sh]\n",
            "Saving to: ‘Miniconda3-4.5.4-Linux-x86_64.sh’\n",
            "\n",
            "\r          Miniconda   0%[                    ]       0  --.-KB/s               \r         Miniconda3  48%[========>           ]  27.09M   135MB/s               \r        Miniconda3-  97%[==================> ]  54.15M   135MB/s               \rMiniconda3-4.5.4-Li 100%[===================>]  55.76M   136MB/s    in 0.4s    \n",
            "\n",
            "2020-06-04 14:44:43 (136 MB/s) - ‘Miniconda3-4.5.4-Linux-x86_64.sh’ saved [58468498/58468498]\n",
            "\n",
            "PREFIX=/usr/local\n",
            "installing: python-3.6.5-hc3d631a_2 ...\n",
            "Python 3.6.5 :: Anaconda, Inc.\n",
            "installing: ca-certificates-2018.03.07-0 ...\n",
            "installing: conda-env-2.6.0-h36134e3_1 ...\n",
            "installing: libgcc-ng-7.2.0-hdf63c60_3 ...\n",
            "installing: libstdcxx-ng-7.2.0-hdf63c60_3 ...\n",
            "installing: libffi-3.2.1-hd88cf55_4 ...\n",
            "installing: ncurses-6.1-hf484d3e_0 ...\n",
            "installing: openssl-1.0.2o-h20670df_0 ...\n",
            "installing: tk-8.6.7-hc745277_3 ...\n",
            "installing: xz-5.2.4-h14c3975_4 ...\n",
            "installing: yaml-0.1.7-had09818_2 ...\n",
            "installing: zlib-1.2.11-ha838bed_2 ...\n",
            "installing: libedit-3.1.20170329-h6b74fdf_2 ...\n",
            "installing: readline-7.0-ha6073c6_4 ...\n",
            "installing: sqlite-3.23.1-he433501_0 ...\n",
            "installing: asn1crypto-0.24.0-py36_0 ...\n",
            "installing: certifi-2018.4.16-py36_0 ...\n",
            "installing: chardet-3.0.4-py36h0f667ec_1 ...\n",
            "installing: idna-2.6-py36h82fb2a8_1 ...\n",
            "installing: pycosat-0.6.3-py36h0a5515d_0 ...\n",
            "installing: pycparser-2.18-py36hf9f622e_1 ...\n",
            "installing: pysocks-1.6.8-py36_0 ...\n",
            "installing: ruamel_yaml-0.15.37-py36h14c3975_2 ...\n",
            "installing: six-1.11.0-py36h372c433_1 ...\n",
            "installing: cffi-1.11.5-py36h9745a5d_0 ...\n",
            "installing: setuptools-39.2.0-py36_0 ...\n",
            "installing: cryptography-2.2.2-py36h14c3975_0 ...\n",
            "installing: wheel-0.31.1-py36_0 ...\n",
            "installing: pip-10.0.1-py36_0 ...\n",
            "installing: pyopenssl-18.0.0-py36_0 ...\n",
            "installing: urllib3-1.22-py36hbe7ace6_0 ...\n",
            "installing: requests-2.18.4-py36he2e5f8d_1 ...\n",
            "installing: conda-4.5.4-py36_0 ...\n",
            "installation finished.\n",
            "WARNING:\n",
            "    You currently have a PYTHONPATH environment variable set. This may cause\n",
            "    unexpected behavior when running the Python interpreter in Miniconda3.\n",
            "    For best results, please verify that your PYTHONPATH only points to\n",
            "    directories of packages that are compatible with the Python interpreter\n",
            "    in Miniconda3: /usr/local\n",
            "Solving environment: ...working... done\n",
            "\n",
            "## Package Plan ##\n",
            "\n",
            "  environment location: /usr/local\n",
            "\n",
            "  added / updated specs: \n",
            "    - python=3.6\n",
            "    - ujson\n",
            "\n",
            "\n",
            "The following packages will be downloaded:\n",
            "\n",
            "    package                    |            build\n",
            "    ---------------------------|-----------------\n",
            "    wheel-0.34.2               |           py36_0          49 KB\n",
            "    readline-8.0               |       h7b6447c_0         428 KB\n",
            "    libffi-3.3                 |       he6710b0_1          54 KB\n",
            "    python-3.6.10              |       h7579374_2        33.9 MB\n",
            "    certifi-2020.4.5.1         |           py36_0         159 KB\n",
            "    ujson-2.0.3                |   py36he6710b0_0          47 KB\n",
            "    setuptools-46.4.0          |           py36_0         646 KB\n",
            "    tk-8.6.8                   |       hbc83047_0         3.1 MB\n",
            "    libedit-3.1.20181209       |       hc058e9b_0         188 KB\n",
            "    xz-5.2.5                   |       h7b6447c_0         438 KB\n",
            "    _libgcc_mutex-0.1          |             main           3 KB\n",
            "    ncurses-6.2                |       he6710b0_1         1.1 MB\n",
            "    ca-certificates-2020.1.1   |                0         132 KB\n",
            "    libstdcxx-ng-9.1.0         |       hdf63c60_0         4.0 MB\n",
            "    openssl-1.1.1g             |       h7b6447c_0         3.8 MB\n",
            "    zlib-1.2.11                |       h7b6447c_3         120 KB\n",
            "    pip-20.0.2                 |           py36_3         1.9 MB\n",
            "    libgcc-ng-9.1.0            |       hdf63c60_0         8.1 MB\n",
            "    sqlite-3.31.1              |       h62c20be_1         2.0 MB\n",
            "    ld_impl_linux-64-2.33.1    |       h53a641e_7         645 KB\n",
            "    ------------------------------------------------------------\n",
            "                                           Total:        60.9 MB\n",
            "\n",
            "The following NEW packages will be INSTALLED:\n",
            "\n",
            "    _libgcc_mutex:    0.1-main               \n",
            "    ld_impl_linux-64: 2.33.1-h53a641e_7      \n",
            "    ujson:            2.0.3-py36he6710b0_0   \n",
            "\n",
            "The following packages will be UPDATED:\n",
            "\n",
            "    ca-certificates:  2018.03.07-0            --> 2020.1.1-0             \n",
            "    certifi:          2018.4.16-py36_0        --> 2020.4.5.1-py36_0      \n",
            "    libedit:          3.1.20170329-h6b74fdf_2 --> 3.1.20181209-hc058e9b_0\n",
            "    libffi:           3.2.1-hd88cf55_4        --> 3.3-he6710b0_1         \n",
            "    libgcc-ng:        7.2.0-hdf63c60_3        --> 9.1.0-hdf63c60_0       \n",
            "    libstdcxx-ng:     7.2.0-hdf63c60_3        --> 9.1.0-hdf63c60_0       \n",
            "    ncurses:          6.1-hf484d3e_0          --> 6.2-he6710b0_1         \n",
            "    openssl:          1.0.2o-h20670df_0       --> 1.1.1g-h7b6447c_0      \n",
            "    pip:              10.0.1-py36_0           --> 20.0.2-py36_3          \n",
            "    python:           3.6.5-hc3d631a_2        --> 3.6.10-h7579374_2      \n",
            "    readline:         7.0-ha6073c6_4          --> 8.0-h7b6447c_0         \n",
            "    setuptools:       39.2.0-py36_0           --> 46.4.0-py36_0          \n",
            "    sqlite:           3.23.1-he433501_0       --> 3.31.1-h62c20be_1      \n",
            "    tk:               8.6.7-hc745277_3        --> 8.6.8-hbc83047_0       \n",
            "    wheel:            0.31.1-py36_0           --> 0.34.2-py36_0          \n",
            "    xz:               5.2.4-h14c3975_4        --> 5.2.5-h7b6447c_0       \n",
            "    zlib:             1.2.11-ha838bed_2       --> 1.2.11-h7b6447c_3      \n",
            "\n",
            "Preparing transaction: ...working... done\n",
            "Verifying transaction: ...working... done\n",
            "Executing transaction: ...working... done\n"
          ],
          "name": "stdout"
        }
      ]
    },
    {
      "cell_type": "code",
      "metadata": {
        "id": "Ot8nBIjFyoNt",
        "colab_type": "code",
        "colab": {
          "base_uri": "https://localhost:8080/",
          "height": 34
        },
        "outputId": "30d4ef45-4ff8-4007-81bf-fb5b167ea318"
      },
      "source": [
        "# update 2\n",
        "import sys\n",
        "sys.path.append('/usr/local/lib/python3.6/site-packages')\n",
        "# test it\n",
        "import ujson\n",
        "print(ujson.dumps({1:2}))"
      ],
      "execution_count": 6,
      "outputs": [
        {
          "output_type": "stream",
          "text": [
            "{\"1\":2}\n"
          ],
          "name": "stdout"
        }
      ]
    },
    {
      "cell_type": "code",
      "metadata": {
        "id": "CtHEF9Y-ysZy",
        "colab_type": "code",
        "colab": {
          "base_uri": "https://localhost:8080/",
          "height": 712
        },
        "outputId": "f22f7277-d40c-4d99-b46b-4d1482b4c7bb"
      },
      "source": [
        "! conda install -q -y --prefix /usr/local python=3.6 pytorch=0.4.1 cuda90 -c pytorch"
      ],
      "execution_count": 8,
      "outputs": [
        {
          "output_type": "stream",
          "text": [
            "Solving environment: ...working... done\n",
            "\n",
            "## Package Plan ##\n",
            "\n",
            "  environment location: /usr/local\n",
            "\n",
            "  added / updated specs: \n",
            "    - cuda90\n",
            "    - python=3.6\n",
            "    - pytorch=0.4.1\n",
            "\n",
            "\n",
            "The following packages will be downloaded:\n",
            "\n",
            "    package                    |            build\n",
            "    ---------------------------|-----------------\n",
            "    pytorch-0.4.1              |py36_py35_py27__9.0.176_7.1.2_2       471.7 MB  pytorch\n",
            "\n",
            "The following NEW packages will be INSTALLED:\n",
            "\n",
            "    blas:           1.0-mkl                                      \n",
            "    cuda90:         1.0-h6433d27_0                        pytorch\n",
            "    intel-openmp:   2020.1-217                                   \n",
            "    libgfortran-ng: 7.3.0-hdf63c60_0                             \n",
            "    mkl:            2020.1-217                                   \n",
            "    mkl-service:    2.3.0-py36he904b0f_0                         \n",
            "    mkl_fft:        1.0.15-py36ha843d7b_0                        \n",
            "    mkl_random:     1.1.1-py36h0573a6f_0                         \n",
            "    ninja:          1.9.0-py36hfd86e86_0                         \n",
            "    numpy:          1.18.1-py36h4f9e942_0                        \n",
            "    numpy-base:     1.18.1-py36hde5b4d6_1                        \n",
            "    pytorch:        0.4.1-py36_py35_py27__9.0.176_7.1.2_2 pytorch\n",
            "\n",
            "The following packages will be UPDATED:\n",
            "\n",
            "    cffi:           1.11.5-py36h9745a5d_0                         --> 1.14.0-py36he30daa8_1\n",
            "\n",
            "Preparing transaction: ...working... done\n",
            "Verifying transaction: ...working... done\n",
            "Executing transaction: ...working... done\n"
          ],
          "name": "stdout"
        }
      ]
    },
    {
      "cell_type": "code",
      "metadata": {
        "id": "viBmYNKNzZMT",
        "colab_type": "code",
        "colab": {
          "base_uri": "https://localhost:8080/",
          "height": 225
        },
        "outputId": "ff8b27b5-3b1f-438b-e4a4-e65a546d7022"
      },
      "source": [
        "! python3 -m pip install torchtext==0.1.1\n"
      ],
      "execution_count": 9,
      "outputs": [
        {
          "output_type": "stream",
          "text": [
            "Collecting torchtext==0.1.1\n",
            "  Downloading torchtext-0.1.1-py3-none-any.whl (24 kB)\n",
            "Collecting tqdm\n",
            "  Downloading tqdm-4.46.1-py2.py3-none-any.whl (63 kB)\n",
            "\u001b[?25l\r\u001b[K     |█████▏                          | 10 kB 39.1 MB/s eta 0:00:01\r\u001b[K     |██████████▎                     | 20 kB 44.0 MB/s eta 0:00:01\r\u001b[K     |███████████████▍                | 30 kB 46.8 MB/s eta 0:00:01\r\u001b[K     |████████████████████▋           | 40 kB 47.0 MB/s eta 0:00:01\r\u001b[K     |█████████████████████████▊      | 51 kB 34.2 MB/s eta 0:00:01\r\u001b[K     |██████████████████████████████▉ | 61 kB 33.1 MB/s eta 0:00:01\r\u001b[K     |████████████████████████████████| 63 kB 1.4 MB/s \n",
            "\u001b[?25hRequirement already satisfied: requests in /usr/local/lib/python3.6/site-packages (from torchtext==0.1.1) (2.18.4)\n",
            "Requirement already satisfied: chardet<3.1.0,>=3.0.2 in /usr/local/lib/python3.6/site-packages (from requests->torchtext==0.1.1) (3.0.4)\n",
            "Requirement already satisfied: idna<2.7,>=2.5 in /usr/local/lib/python3.6/site-packages (from requests->torchtext==0.1.1) (2.6)\n",
            "Requirement already satisfied: urllib3<1.23,>=1.21.1 in /usr/local/lib/python3.6/site-packages (from requests->torchtext==0.1.1) (1.22)\n",
            "Requirement already satisfied: certifi>=2017.4.17 in /usr/local/lib/python3.6/site-packages (from requests->torchtext==0.1.1) (2020.4.5.1)\n",
            "Installing collected packages: tqdm, torchtext\n",
            "Successfully installed torchtext-0.1.1 tqdm-4.46.1\n"
          ],
          "name": "stdout"
        }
      ]
    },
    {
      "cell_type": "code",
      "metadata": {
        "id": "GTgbWZrc21Cg",
        "colab_type": "code",
        "colab": {}
      },
      "source": [
        "import torch\n"
      ],
      "execution_count": 0,
      "outputs": []
    },
    {
      "cell_type": "code",
      "metadata": {
        "id": "NMx5bTh922Wp",
        "colab_type": "code",
        "colab": {
          "base_uri": "https://localhost:8080/",
          "height": 34
        },
        "outputId": "7c44f897-7d71-4576-90ae-2862a30631b8"
      },
      "source": [
        "torch.tensor(100000)"
      ],
      "execution_count": 13,
      "outputs": [
        {
          "output_type": "execute_result",
          "data": {
            "text/plain": [
              "tensor(100000)"
            ]
          },
          "metadata": {
            "tags": []
          },
          "execution_count": 13
        }
      ]
    },
    {
      "cell_type": "code",
      "metadata": {
        "id": "8mHX5k-n26m7",
        "colab_type": "code",
        "colab": {
          "base_uri": "https://localhost:8080/",
          "height": 34
        },
        "outputId": "3c5931b9-4752-4daf-a38a-f02c6b238f5c"
      },
      "source": [
        "! ls"
      ],
      "execution_count": 15,
      "outputs": [
        {
          "output_type": "stream",
          "text": [
            "Miniconda3-4.5.4-Linux-x86_64.sh  QG-Net  sample_data\n"
          ],
          "name": "stdout"
        }
      ]
    },
    {
      "cell_type": "code",
      "metadata": {
        "id": "y7J3mrA73JC-",
        "colab_type": "code",
        "colab": {
          "base_uri": "https://localhost:8080/",
          "height": 34
        },
        "outputId": "f80bf959-813e-4f07-8a6a-33eecdcba166"
      },
      "source": [
        "torch.cuda.is_available()"
      ],
      "execution_count": 16,
      "outputs": [
        {
          "output_type": "execute_result",
          "data": {
            "text/plain": [
              "True"
            ]
          },
          "metadata": {
            "tags": []
          },
          "execution_count": 16
        }
      ]
    },
    {
      "cell_type": "code",
      "metadata": {
        "id": "JgZ3W9Zi3L12",
        "colab_type": "code",
        "colab": {
          "base_uri": "https://localhost:8080/",
          "height": 34
        },
        "outputId": "6171b99d-7085-49b9-ce3f-2f16901565c7"
      },
      "source": [
        "%cd QG-Net"
      ],
      "execution_count": 18,
      "outputs": [
        {
          "output_type": "stream",
          "text": [
            "/content/QG-Net\n"
          ],
          "name": "stdout"
        }
      ]
    },
    {
      "cell_type": "code",
      "metadata": {
        "id": "I-4su-Wj3NVz",
        "colab_type": "code",
        "colab": {
          "base_uri": "https://localhost:8080/",
          "height": 992
        },
        "outputId": "d00e7a6d-ac88-417b-8b96-8c24e64f5129"
      },
      "source": [
        "! bash ./download_QG-Net.sh"
      ],
      "execution_count": 20,
      "outputs": [
        {
          "output_type": "stream",
          "text": [
            "--2020-06-04 15:05:45--  https://rice.box.com/shared/static/o8hw9zyzm1391blwtm8lx6c38qu9shck.gz\n",
            "Resolving rice.box.com (rice.box.com)... 103.116.4.197\n",
            "Connecting to rice.box.com (rice.box.com)|103.116.4.197|:443... connected.\n",
            "HTTP request sent, awaiting response... 301 Moved Permanently\n",
            "Location: /public/static/o8hw9zyzm1391blwtm8lx6c38qu9shck.gz [following]\n",
            "--2020-06-04 15:05:46--  https://rice.box.com/public/static/o8hw9zyzm1391blwtm8lx6c38qu9shck.gz\n",
            "Reusing existing connection to rice.box.com:443.\n",
            "HTTP request sent, awaiting response... 301 Moved Permanently\n",
            "Location: https://rice.app.box.com/public/static/o8hw9zyzm1391blwtm8lx6c38qu9shck.gz [following]\n",
            "--2020-06-04 15:05:46--  https://rice.app.box.com/public/static/o8hw9zyzm1391blwtm8lx6c38qu9shck.gz\n",
            "Resolving rice.app.box.com (rice.app.box.com)... 103.116.4.201\n",
            "Connecting to rice.app.box.com (rice.app.box.com)|103.116.4.201|:443... connected.\n",
            "HTTP request sent, awaiting response... 302 Found\n",
            "Location: https://public.boxcloud.com/d/1/b1!3EgEPZmrntVQj9qnPZbFfLiDQ8V3T3AukP_1zRXUfmxCFhDbn0JSBmGl9AWphHGKfbUjGtmD_NoCpoO5JU4wLwO55HPc0J4duQhUpJ5Ctosk22_HbQP9UlJMc6sXcf3O47Nhcn21N5Kha9A7g0SEKBcbYM8EOuEzmBoYf3GJucYcHk8RIwcxmKYOKucRvQdlxOYXGu0JZFUjtVQdLF8AnrkxYOQXFG3VyyZjmnQNWp7u65sEGTng87CZOADNb5ddUZ23zrNHiaOdmPcv06MavPGtCp-qHTioEnyKY3tyVcT1MMAryv5BjWYzBV48h90RssIIGbbRu5YFKYHbCFlREB1XH_tbHtzELD-gEqZsSDGkMktUgzwtKPrJXsZHWOWDt-QYWNvjHMbkkDtNhlzMzW7RET0jkaPQO28TxyqIDF-8jU7FNOZISjOS78gku5lw1aORm1X10M6pEJt8QaGzup1aO3gr9XGJ4glICxNYFDsyhCAyM8b3yv9u2uHb52pdF-_HHYSRvPqJcUnfghooJDhoVQRkqXkguF98kH-mYFCNOcu9FjYHtUDpAAD_mjqW0gF4agA_Q83GK7VXAPeSkHs-P8JeBNPexi1Qdiy-aDpVIUlU_sCPC7M4tz2gSQdZQHPsHVhx8VGJ10eVIR552Hfk96sqqvwat2KQBrZqcUEowlIrxrbTQpWwz_z4WK4pnDv5DnAjB1mHnqV86l8T04NRGj8ZVxII6bs25La7KyxAnAqKfzYdPc3lstHQmf40vK2KCqF7NGOrTVvbJ8_tHE2sMxwlX5n7OOgSo25te8WeKnSS-KOUFfmq_2fy-qAiz0_L4XECg2jQzH8WDzjK97Sji16bumKjw0R1MaFrOOAA1QeqvBny7JUhVFD-Qso2ePo0kDAK62lu8DZc0gVP0PgWqnHOSIXDD-dHELJcSEal1DNFw_I1qltmxPZyjA_2_yQgCIzBtn9wp6KaSEGt7DPlzCcITZAYhd6OmJfiF4e6xXlvmxwWJx-oi7JGc3iNiK9i0AyXsBpQqyq2JIU1WlqYiV6NtHT8E0DT-wnlamYr7uTjDKlmH3rPNIBUx8EKfM7xYOBlIyIY79xpKWSz57Lxn-SBkbevOJiSHJpm5awlklZ7oLIaC0HjKp5pgmwCfSJT5NT-_1iCls8ljGRdwptDvgMkP9Lqh1Aw7f-nTDdKLgVsif4s087nNxd5-aLGDWDazn8urThnFqSIlBR8-gmMf6zM6fUEU_qUisncIyoiL8-lilabldcJjb--1vBX0Wpbu_gu8YORT6o7ex3j9ZJihjEv4tll4z6jBfkIKqa3h25oBQZ4ICS0fNOfLmsoJORR15DjMfEx55NYcpPd-zZIWYF0hGPWueaw82rJm93gANWzcpKS9cRKmDGPNms./download [following]\n",
            "--2020-06-04 15:05:47--  https://public.boxcloud.com/d/1/b1!3EgEPZmrntVQj9qnPZbFfLiDQ8V3T3AukP_1zRXUfmxCFhDbn0JSBmGl9AWphHGKfbUjGtmD_NoCpoO5JU4wLwO55HPc0J4duQhUpJ5Ctosk22_HbQP9UlJMc6sXcf3O47Nhcn21N5Kha9A7g0SEKBcbYM8EOuEzmBoYf3GJucYcHk8RIwcxmKYOKucRvQdlxOYXGu0JZFUjtVQdLF8AnrkxYOQXFG3VyyZjmnQNWp7u65sEGTng87CZOADNb5ddUZ23zrNHiaOdmPcv06MavPGtCp-qHTioEnyKY3tyVcT1MMAryv5BjWYzBV48h90RssIIGbbRu5YFKYHbCFlREB1XH_tbHtzELD-gEqZsSDGkMktUgzwtKPrJXsZHWOWDt-QYWNvjHMbkkDtNhlzMzW7RET0jkaPQO28TxyqIDF-8jU7FNOZISjOS78gku5lw1aORm1X10M6pEJt8QaGzup1aO3gr9XGJ4glICxNYFDsyhCAyM8b3yv9u2uHb52pdF-_HHYSRvPqJcUnfghooJDhoVQRkqXkguF98kH-mYFCNOcu9FjYHtUDpAAD_mjqW0gF4agA_Q83GK7VXAPeSkHs-P8JeBNPexi1Qdiy-aDpVIUlU_sCPC7M4tz2gSQdZQHPsHVhx8VGJ10eVIR552Hfk96sqqvwat2KQBrZqcUEowlIrxrbTQpWwz_z4WK4pnDv5DnAjB1mHnqV86l8T04NRGj8ZVxII6bs25La7KyxAnAqKfzYdPc3lstHQmf40vK2KCqF7NGOrTVvbJ8_tHE2sMxwlX5n7OOgSo25te8WeKnSS-KOUFfmq_2fy-qAiz0_L4XECg2jQzH8WDzjK97Sji16bumKjw0R1MaFrOOAA1QeqvBny7JUhVFD-Qso2ePo0kDAK62lu8DZc0gVP0PgWqnHOSIXDD-dHELJcSEal1DNFw_I1qltmxPZyjA_2_yQgCIzBtn9wp6KaSEGt7DPlzCcITZAYhd6OmJfiF4e6xXlvmxwWJx-oi7JGc3iNiK9i0AyXsBpQqyq2JIU1WlqYiV6NtHT8E0DT-wnlamYr7uTjDKlmH3rPNIBUx8EKfM7xYOBlIyIY79xpKWSz57Lxn-SBkbevOJiSHJpm5awlklZ7oLIaC0HjKp5pgmwCfSJT5NT-_1iCls8ljGRdwptDvgMkP9Lqh1Aw7f-nTDdKLgVsif4s087nNxd5-aLGDWDazn8urThnFqSIlBR8-gmMf6zM6fUEU_qUisncIyoiL8-lilabldcJjb--1vBX0Wpbu_gu8YORT6o7ex3j9ZJihjEv4tll4z6jBfkIKqa3h25oBQZ4ICS0fNOfLmsoJORR15DjMfEx55NYcpPd-zZIWYF0hGPWueaw82rJm93gANWzcpKS9cRKmDGPNms./download\n",
            "Resolving public.boxcloud.com (public.boxcloud.com)... 103.116.4.200\n",
            "Connecting to public.boxcloud.com (public.boxcloud.com)|103.116.4.200|:443... connected.\n",
            "HTTP request sent, awaiting response... 200 OK\n",
            "Length: 1050129 (1.0M) [application/octet-stream]\n",
            "Saving to: ‘test.tar.gz’\n",
            "\n",
            "test.tar.gz         100%[===================>]   1.00M  2.05MB/s    in 0.5s    \n",
            "\n",
            "2020-06-04 15:05:48 (2.05 MB/s) - ‘test.tar.gz’ saved [1050129/1050129]\n",
            "\n",
            "test/\n",
            "test/squad.corenlp.filtered.questions.txt\n",
            "test/squad.corenlp.filtered.contents.features.1sent.txt\n",
            "test/squad.corenlp.filtered.contents.1sent.txt\n",
            "--2020-06-04 15:05:48--  https://rice.box.com/shared/static/izhz3hasup6ekgi8jwyokt70btdq5z3j.pt\n",
            "Resolving rice.box.com (rice.box.com)... 103.116.4.197\n",
            "Connecting to rice.box.com (rice.box.com)|103.116.4.197|:443... connected.\n",
            "HTTP request sent, awaiting response... 301 Moved Permanently\n",
            "Location: /public/static/izhz3hasup6ekgi8jwyokt70btdq5z3j.pt [following]\n",
            "--2020-06-04 15:05:49--  https://rice.box.com/public/static/izhz3hasup6ekgi8jwyokt70btdq5z3j.pt\n",
            "Reusing existing connection to rice.box.com:443.\n",
            "HTTP request sent, awaiting response... 301 Moved Permanently\n",
            "Location: https://rice.app.box.com/public/static/izhz3hasup6ekgi8jwyokt70btdq5z3j.pt [following]\n",
            "--2020-06-04 15:05:49--  https://rice.app.box.com/public/static/izhz3hasup6ekgi8jwyokt70btdq5z3j.pt\n",
            "Resolving rice.app.box.com (rice.app.box.com)... 103.116.4.201\n",
            "Connecting to rice.app.box.com (rice.app.box.com)|103.116.4.201|:443... connected.\n",
            "HTTP request sent, awaiting response... 302 Found\n",
            "Location: https://public.boxcloud.com/d/1/b1!7DOskq-ejBaN3SNfAnBZfULXEABNYy8iNWtst0WWlO_ZT87YvFz3tYAqhr8yd1FqB_pHvtZrcqocJhrDOU001U0mOUqi9Szcb9lzLv_I-kJsJ3DdtbOMifKKBYmNp3F7eoYdGhRUX8KiiA6mCN18-U3btFsNmXGVrzK1zJy88uu_aE4KLQqhEqZUC2h4VvYDOArnmvTOvQW5Bc52YsnQ4g-xDV6iaLABzud2ZR13iZffhZ_mADQdvLcdD4q14OrzBke50l-TFOqqh1K9U_c-BBk8k5bjcnh_lJy5HAwBUcghlOqpdU740nj9jgY-UDkTnLelIK9Q3llwHaUBLtdeqrivPncqRiUU4cQWX6O3QI0lJycNOF6e1othzcyUaTXNSXuDY1uerwjsv6CCnPkOmPcqcPJW3vWPWpGhFnISpycCRkUTA0XoZ-GF_mMGbpqpdW-Uq5ioB7L33dE0vMXuxuIiB8kwULnaWeME5PSM2Z9RHVP8-Lo8lHyLlMfwqc5obGh6dJ648WVxKhsrmF0pk8rO5S2BBk0MR4vQ55KWWfxi2JeBi1qQnbWPId2vcgOXkmMCuFxAJm3l1UTVR0zAqj4ZnOhFfKmzBqL4wG-QlfPLpUFxU_HE3HiCfMBTbZ9TOXWM-2kkMKrn6xahUgDlnQ6eU7ZNPKtnB0jvAxEkfiU57Y3Zq467ft_MbfmPregv3jXIwfqDgSdFbvmDflac_MFdvn7MUYSamLamfBNo3ErrfNkZrAUrrhzJn9uylvHmEvdfL_4DBfQ2yGa7tnTJkvlQ2R10pLXE1CGcVod3DQsC5IHrVtR5eExpAAgHb-OMr4_KH79lwCJu_CkRKUYS1CUfbirhA1hgSqpdGR_MtnSrmYVmwSqfBaEGrrT_4dO0mw5s7RuENBAoDXLxwk0Oca2AReJUZfcY67cqwZlHZHsM5E_qNovpcAUYf53mqFI1e8itpiZ6RUjbyoFrq03lncg8vp-ehfmKJcBfn0fLBdDAMt7w-py2b3HjnjYxDXnfLpy-Ln27qc-jXkoQlBcMSR6fDd5iQFAxzDnWCTyB8LqOdcTryq7U36mAf8uRD8kpZSYd_fmiXkZn9oUWor-BtgYg-hvjO13edXfhY2zztAQMTWnqWe-Y4wWwy82mp03s5CTAsVz6BhcGcmNX_I29jyYhs7vuxrdjHaNdkjWw5qJ6wuufwc2gEqJ1R8bt6d8FXV58UDrt8UKFfZIPW5WRcYb3ec_t021cdvugp1VMTaFbIzVox6K9no90Ngg3NeE3W0CictfHWPvsgPHo0_yEdsuq1OkyofqOOluucTrg0UAbR5Jmf0kpxRSL3NHqNc-WHota0aMPpAixaGBzgVuK3EQiXbDQkICAQ295Hd4yH0tY8Xk2JuX2Ql5mq5G8d1o./download [following]\n",
            "--2020-06-04 15:05:50--  https://public.boxcloud.com/d/1/b1!7DOskq-ejBaN3SNfAnBZfULXEABNYy8iNWtst0WWlO_ZT87YvFz3tYAqhr8yd1FqB_pHvtZrcqocJhrDOU001U0mOUqi9Szcb9lzLv_I-kJsJ3DdtbOMifKKBYmNp3F7eoYdGhRUX8KiiA6mCN18-U3btFsNmXGVrzK1zJy88uu_aE4KLQqhEqZUC2h4VvYDOArnmvTOvQW5Bc52YsnQ4g-xDV6iaLABzud2ZR13iZffhZ_mADQdvLcdD4q14OrzBke50l-TFOqqh1K9U_c-BBk8k5bjcnh_lJy5HAwBUcghlOqpdU740nj9jgY-UDkTnLelIK9Q3llwHaUBLtdeqrivPncqRiUU4cQWX6O3QI0lJycNOF6e1othzcyUaTXNSXuDY1uerwjsv6CCnPkOmPcqcPJW3vWPWpGhFnISpycCRkUTA0XoZ-GF_mMGbpqpdW-Uq5ioB7L33dE0vMXuxuIiB8kwULnaWeME5PSM2Z9RHVP8-Lo8lHyLlMfwqc5obGh6dJ648WVxKhsrmF0pk8rO5S2BBk0MR4vQ55KWWfxi2JeBi1qQnbWPId2vcgOXkmMCuFxAJm3l1UTVR0zAqj4ZnOhFfKmzBqL4wG-QlfPLpUFxU_HE3HiCfMBTbZ9TOXWM-2kkMKrn6xahUgDlnQ6eU7ZNPKtnB0jvAxEkfiU57Y3Zq467ft_MbfmPregv3jXIwfqDgSdFbvmDflac_MFdvn7MUYSamLamfBNo3ErrfNkZrAUrrhzJn9uylvHmEvdfL_4DBfQ2yGa7tnTJkvlQ2R10pLXE1CGcVod3DQsC5IHrVtR5eExpAAgHb-OMr4_KH79lwCJu_CkRKUYS1CUfbirhA1hgSqpdGR_MtnSrmYVmwSqfBaEGrrT_4dO0mw5s7RuENBAoDXLxwk0Oca2AReJUZfcY67cqwZlHZHsM5E_qNovpcAUYf53mqFI1e8itpiZ6RUjbyoFrq03lncg8vp-ehfmKJcBfn0fLBdDAMt7w-py2b3HjnjYxDXnfLpy-Ln27qc-jXkoQlBcMSR6fDd5iQFAxzDnWCTyB8LqOdcTryq7U36mAf8uRD8kpZSYd_fmiXkZn9oUWor-BtgYg-hvjO13edXfhY2zztAQMTWnqWe-Y4wWwy82mp03s5CTAsVz6BhcGcmNX_I29jyYhs7vuxrdjHaNdkjWw5qJ6wuufwc2gEqJ1R8bt6d8FXV58UDrt8UKFfZIPW5WRcYb3ec_t021cdvugp1VMTaFbIzVox6K9no90Ngg3NeE3W0CictfHWPvsgPHo0_yEdsuq1OkyofqOOluucTrg0UAbR5Jmf0kpxRSL3NHqNc-WHota0aMPpAixaGBzgVuK3EQiXbDQkICAQ295Hd4yH0tY8Xk2JuX2Ql5mq5G8d1o./download\n",
            "Resolving public.boxcloud.com (public.boxcloud.com)... 103.116.4.200\n",
            "Connecting to public.boxcloud.com (public.boxcloud.com)|103.116.4.200|:443... connected.\n",
            "HTTP request sent, awaiting response... 200 OK\n",
            "Length: 442198997 (422M) [application/octet-stream]\n",
            "Saving to: ‘QG-Net.pt’\n",
            "\n",
            "QG-Net.pt           100%[===================>] 421.71M  15.1MB/s    in 28s     \n",
            "\n",
            "2020-06-04 15:06:19 (14.8 MB/s) - ‘QG-Net.pt’ saved [442198997/442198997]\n",
            "\n",
            "download completed.\n"
          ],
          "name": "stdout"
        }
      ]
    },
    {
      "cell_type": "code",
      "metadata": {
        "id": "Xk1o6-9J3R27",
        "colab_type": "code",
        "colab": {
          "base_uri": "https://localhost:8080/",
          "height": 34
        },
        "outputId": "4a8e43be-18ff-4025-c55f-77294443d011"
      },
      "source": [
        "%cd test/"
      ],
      "execution_count": 22,
      "outputs": [
        {
          "output_type": "stream",
          "text": [
            "/content/QG-Net/test\n"
          ],
          "name": "stdout"
        }
      ]
    },
    {
      "cell_type": "code",
      "metadata": {
        "id": "6QcxdZfr3pDn",
        "colab_type": "code",
        "colab": {
          "base_uri": "https://localhost:8080/",
          "height": 139
        },
        "outputId": "b3a96d40-4de6-4f4f-b0a9-b588b5bf0cd2"
      },
      "source": [
        "! git clone https://github.com/facebookresearch/DrQA.git"
      ],
      "execution_count": 25,
      "outputs": [
        {
          "output_type": "stream",
          "text": [
            "Cloning into 'DrQA'...\n",
            "remote: Enumerating objects: 4, done.\u001b[K\n",
            "remote: Counting objects: 100% (4/4), done.\u001b[K\n",
            "remote: Compressing objects: 100% (4/4), done.\u001b[K\n",
            "remote: Total 260 (delta 0), reused 1 (delta 0), pack-reused 256\u001b[K\n",
            "Receiving objects: 100% (260/260), 561.74 KiB | 585.00 KiB/s, done.\n",
            "Resolving deltas: 100% (121/121), done.\n"
          ],
          "name": "stdout"
        }
      ]
    },
    {
      "cell_type": "code",
      "metadata": {
        "id": "5I3CXgiV3xC1",
        "colab_type": "code",
        "colab": {
          "base_uri": "https://localhost:8080/",
          "height": 34
        },
        "outputId": "111a5749-84bc-41a8-c18e-36dbc3111041"
      },
      "source": [
        "%cd DrQA/"
      ],
      "execution_count": 26,
      "outputs": [
        {
          "output_type": "stream",
          "text": [
            "/content/QG-Net/test/DrQA\n"
          ],
          "name": "stdout"
        }
      ]
    },
    {
      "cell_type": "code",
      "metadata": {
        "id": "jnKAN65j4S8P",
        "colab_type": "code",
        "colab": {
          "base_uri": "https://localhost:8080/",
          "height": 868
        },
        "outputId": "988851e1-d706-4610-a008-89255b1611b5"
      },
      "source": [
        "! python3 -m pip install -r requirements.txt"
      ],
      "execution_count": 27,
      "outputs": [
        {
          "output_type": "stream",
          "text": [
            "Requirement already satisfied: numpy in /usr/local/lib/python3.6/site-packages (from -r requirements.txt (line 1)) (1.18.1)\n",
            "Collecting scikit-learn\n",
            "  Downloading scikit_learn-0.23.1-cp36-cp36m-manylinux1_x86_64.whl (6.8 MB)\n",
            "\u001b[K     |████████████████████████████████| 6.8 MB 24.7 MB/s \n",
            "\u001b[?25hCollecting termcolor\n",
            "  Downloading termcolor-1.1.0.tar.gz (3.9 kB)\n",
            "Collecting regex\n",
            "  Downloading regex-2020.5.14-cp36-cp36m-manylinux2010_x86_64.whl (675 kB)\n",
            "\u001b[K     |████████████████████████████████| 675 kB 58.6 MB/s \n",
            "\u001b[?25hRequirement already satisfied: tqdm in /usr/local/lib/python3.6/site-packages (from -r requirements.txt (line 5)) (4.46.1)\n",
            "Collecting prettytable\n",
            "  Downloading prettytable-0.7.2.tar.bz2 (21 kB)\n",
            "Collecting scipy\n",
            "  Downloading scipy-1.4.1-cp36-cp36m-manylinux1_x86_64.whl (26.1 MB)\n",
            "\u001b[K     |████████████████████████████████| 26.1 MB 18 kB/s \n",
            "\u001b[?25hCollecting nltk\n",
            "  Downloading nltk-3.5.zip (1.4 MB)\n",
            "\u001b[K     |████████████████████████████████| 1.4 MB 57.6 MB/s \n",
            "\u001b[?25hCollecting elasticsearch\n",
            "  Downloading elasticsearch-7.7.1-py2.py3-none-any.whl (99 kB)\n",
            "\u001b[K     |████████████████████████████████| 99 kB 10.3 MB/s \n",
            "\u001b[?25hCollecting pexpect==4.2.1\n",
            "  Downloading pexpect-4.2.1-py2.py3-none-any.whl (55 kB)\n",
            "\u001b[K     |████████████████████████████████| 55 kB 4.0 MB/s \n",
            "\u001b[?25hCollecting threadpoolctl>=2.0.0\n",
            "  Downloading threadpoolctl-2.1.0-py3-none-any.whl (12 kB)\n",
            "Collecting joblib>=0.11\n",
            "  Downloading joblib-0.15.1-py3-none-any.whl (298 kB)\n",
            "\u001b[K     |████████████████████████████████| 298 kB 73.8 MB/s \n",
            "\u001b[?25hCollecting click\n",
            "  Downloading click-7.1.2-py2.py3-none-any.whl (82 kB)\n",
            "\u001b[K     |████████████████████████████████| 82 kB 1.2 MB/s \n",
            "\u001b[?25hRequirement already satisfied: urllib3>=1.21.1 in /usr/local/lib/python3.6/site-packages (from elasticsearch->-r requirements.txt (line 9)) (1.22)\n",
            "Requirement already satisfied: certifi in /usr/local/lib/python3.6/site-packages (from elasticsearch->-r requirements.txt (line 9)) (2020.4.5.1)\n",
            "Collecting ptyprocess>=0.5\n",
            "  Downloading ptyprocess-0.6.0-py2.py3-none-any.whl (39 kB)\n",
            "Building wheels for collected packages: termcolor, prettytable, nltk\n",
            "  Building wheel for termcolor (setup.py) ... \u001b[?25l\u001b[?25hdone\n",
            "  Created wheel for termcolor: filename=termcolor-1.1.0-py3-none-any.whl size=4830 sha256=1f851764c4dfd50958ac68bb8e784c23a8117480b90a3243157483efc0e83b77\n",
            "  Stored in directory: /root/.cache/pip/wheels/93/2a/eb/e58dbcbc963549ee4f065ff80a59f274cc7210b6eab962acdc\n",
            "  Building wheel for prettytable (setup.py) ... \u001b[?25l\u001b[?25hdone\n",
            "  Created wheel for prettytable: filename=prettytable-0.7.2-py3-none-any.whl size=13698 sha256=39a2a9c669f3f4c00c4621cdc8f894dec8a6d56aa5e56caf81e081d736dca8df\n",
            "  Stored in directory: /root/.cache/pip/wheels/90/15/c3/5f28b42ae9c81638570b8b7ed654e0f98c5fdc08875869511b\n",
            "  Building wheel for nltk (setup.py) ... \u001b[?25l\u001b[?25hdone\n",
            "  Created wheel for nltk: filename=nltk-3.5-py3-none-any.whl size=1434675 sha256=0c926be5c30c663fecb1a256d26579500389ef9715d10adac1c07cea2e248e19\n",
            "  Stored in directory: /root/.cache/pip/wheels/de/5e/42/64abaeca668161c3e2cecc24f864a8fc421e3d07a104fc8a51\n",
            "Successfully built termcolor prettytable nltk\n",
            "Installing collected packages: threadpoolctl, scipy, joblib, scikit-learn, termcolor, regex, prettytable, click, nltk, elasticsearch, ptyprocess, pexpect\n",
            "Successfully installed click-7.1.2 elasticsearch-7.7.1 joblib-0.15.1 nltk-3.5 pexpect-4.2.1 prettytable-0.7.2 ptyprocess-0.6.0 regex-2020.5.14 scikit-learn-0.23.1 scipy-1.4.1 termcolor-1.1.0 threadpoolctl-2.1.0\n"
          ],
          "name": "stdout"
        }
      ]
    },
    {
      "cell_type": "code",
      "metadata": {
        "id": "G9zIQEU14ZMb",
        "colab_type": "code",
        "colab": {
          "base_uri": "https://localhost:8080/",
          "height": 1000
        },
        "outputId": "9c7dd886-1e67-4208-cd1b-b5b5ebe836ab"
      },
      "source": [
        "! python3 setup.py develop"
      ],
      "execution_count": 28,
      "outputs": [
        {
          "output_type": "stream",
          "text": [
            "running develop\n",
            "running egg_info\n",
            "creating drqa.egg-info\n",
            "writing drqa.egg-info/PKG-INFO\n",
            "writing dependency_links to drqa.egg-info/dependency_links.txt\n",
            "writing requirements to drqa.egg-info/requires.txt\n",
            "writing top-level names to drqa.egg-info/top_level.txt\n",
            "writing manifest file 'drqa.egg-info/SOURCES.txt'\n",
            "reading manifest file 'drqa.egg-info/SOURCES.txt'\n",
            "writing manifest file 'drqa.egg-info/SOURCES.txt'\n",
            "running build_ext\n",
            "Creating /usr/local/lib/python3.6/site-packages/drqa.egg-link (link to .)\n",
            "Adding drqa 0.1.0 to easy-install.pth file\n",
            "\n",
            "Installed /content/QG-Net/test/DrQA\n",
            "Processing dependencies for drqa==0.1.0\n",
            "Searching for pexpect==4.2.1\n",
            "Best match: pexpect 4.2.1\n",
            "Adding pexpect 4.2.1 to easy-install.pth file\n",
            "\n",
            "Using /usr/local/lib/python3.6/site-packages\n",
            "Searching for elasticsearch==7.7.1\n",
            "Best match: elasticsearch 7.7.1\n",
            "Adding elasticsearch 7.7.1 to easy-install.pth file\n",
            "\n",
            "Using /usr/local/lib/python3.6/site-packages\n",
            "Searching for nltk==3.5\n",
            "Best match: nltk 3.5\n",
            "Adding nltk 3.5 to easy-install.pth file\n",
            "Installing nltk script to /usr/local/bin\n",
            "\n",
            "Using /usr/local/lib/python3.6/site-packages\n",
            "Searching for scipy==1.4.1\n",
            "Best match: scipy 1.4.1\n",
            "Adding scipy 1.4.1 to easy-install.pth file\n",
            "\n",
            "Using /usr/local/lib/python3.6/site-packages\n",
            "Searching for prettytable==0.7.2\n",
            "Best match: prettytable 0.7.2\n",
            "Adding prettytable 0.7.2 to easy-install.pth file\n",
            "\n",
            "Using /usr/local/lib/python3.6/site-packages\n",
            "Searching for tqdm==4.46.1\n",
            "Best match: tqdm 4.46.1\n",
            "Adding tqdm 4.46.1 to easy-install.pth file\n",
            "Installing tqdm script to /usr/local/bin\n",
            "\n",
            "Using /usr/local/lib/python3.6/site-packages\n",
            "Searching for regex==2020.5.14\n",
            "Best match: regex 2020.5.14\n",
            "Adding regex 2020.5.14 to easy-install.pth file\n",
            "\n",
            "Using /usr/local/lib/python3.6/site-packages\n",
            "Searching for termcolor==1.1.0\n",
            "Best match: termcolor 1.1.0\n",
            "Adding termcolor 1.1.0 to easy-install.pth file\n",
            "\n",
            "Using /usr/local/lib/python3.6/site-packages\n",
            "Searching for scikit-learn==0.23.1\n",
            "Best match: scikit-learn 0.23.1\n",
            "Adding scikit-learn 0.23.1 to easy-install.pth file\n",
            "\n",
            "Using /usr/local/lib/python3.6/site-packages\n",
            "Searching for numpy==1.18.1\n",
            "Best match: numpy 1.18.1\n",
            "Adding numpy 1.18.1 to easy-install.pth file\n",
            "Installing f2py script to /usr/local/bin\n",
            "Installing f2py3 script to /usr/local/bin\n",
            "Installing f2py3.6 script to /usr/local/bin\n",
            "\n",
            "Using /usr/local/lib/python3.6/site-packages\n",
            "Searching for ptyprocess==0.6.0\n",
            "Best match: ptyprocess 0.6.0\n",
            "Adding ptyprocess 0.6.0 to easy-install.pth file\n",
            "\n",
            "Using /usr/local/lib/python3.6/site-packages\n",
            "Searching for certifi==2020.4.5.1\n",
            "Best match: certifi 2020.4.5.1\n",
            "Adding certifi 2020.4.5.1 to easy-install.pth file\n",
            "\n",
            "Using /usr/local/lib/python3.6/site-packages\n",
            "Searching for urllib3==1.22\n",
            "Best match: urllib3 1.22\n",
            "Adding urllib3 1.22 to easy-install.pth file\n",
            "\n",
            "Using /usr/local/lib/python3.6/site-packages\n",
            "Searching for click==7.1.2\n",
            "Best match: click 7.1.2\n",
            "Adding click 7.1.2 to easy-install.pth file\n",
            "\n",
            "Using /usr/local/lib/python3.6/site-packages\n",
            "Searching for joblib==0.15.1\n",
            "Best match: joblib 0.15.1\n",
            "Adding joblib 0.15.1 to easy-install.pth file\n",
            "\n",
            "Using /usr/local/lib/python3.6/site-packages\n",
            "Searching for threadpoolctl==2.1.0\n",
            "Best match: threadpoolctl 2.1.0\n",
            "Adding threadpoolctl 2.1.0 to easy-install.pth file\n",
            "\n",
            "Using /usr/local/lib/python3.6/site-packages\n",
            "Finished processing dependencies for drqa==0.1.0\n"
          ],
          "name": "stdout"
        }
      ]
    },
    {
      "cell_type": "code",
      "metadata": {
        "id": "mfXegY9u4frn",
        "colab_type": "code",
        "colab": {
          "base_uri": "https://localhost:8080/",
          "height": 34
        },
        "outputId": "e0d6ceab-d95f-4724-faf4-f17272845f53"
      },
      "source": [
        "% cd ../"
      ],
      "execution_count": 30,
      "outputs": [
        {
          "output_type": "stream",
          "text": [
            "/content/QG-Net/test\n"
          ],
          "name": "stdout"
        }
      ]
    },
    {
      "cell_type": "code",
      "metadata": {
        "id": "wyWmmyfd4w7a",
        "colab_type": "code",
        "colab": {
          "base_uri": "https://localhost:8080/",
          "height": 1000
        },
        "outputId": "917921d9-c5f6-4400-f86c-c2acb9c3ae01"
      },
      "source": [
        "! conda install -y matplotlib\n"
      ],
      "execution_count": 32,
      "outputs": [
        {
          "output_type": "stream",
          "text": [
            "Solving environment: - \b\b\\ \b\b| \b\b/ \b\b- \b\b\\ \b\b| \b\b/ \b\b- \b\b\\ \b\b| \b\b/ \b\b- \b\b\\ \b\b| \b\b/ \b\b- \b\b\\ \b\b| \b\b/ \b\b- \b\b\\ \b\b| \b\b/ \b\b- \b\b\\ \b\b| \b\b/ \b\b- \b\b\\ \b\b| \b\b/ \b\b- \b\b\\ \b\b| \b\b/ \b\b- \b\b\\ \b\b| \b\b/ \b\b- \b\b\\ \b\b| \b\b/ \b\b- \b\b\\ \b\b| \b\b/ \b\b- \b\b\\ \b\b| \b\b/ \b\b- \b\b\\ \b\b| \b\b/ \b\b- \b\b\\ \b\b| \b\b/ \b\b- \b\b\\ \b\b| \b\bdone\n",
            "\n",
            "\n",
            "==> WARNING: A newer version of conda exists. <==\n",
            "  current version: 4.5.4\n",
            "  latest version: 4.8.3\n",
            "\n",
            "Please update conda by running\n",
            "\n",
            "    $ conda update -n base conda\n",
            "\n",
            "\n",
            "\n",
            "## Package Plan ##\n",
            "\n",
            "  environment location: /usr/local\n",
            "\n",
            "  added / updated specs: \n",
            "    - matplotlib\n",
            "\n",
            "\n",
            "The following packages will be downloaded:\n",
            "\n",
            "    package                    |            build\n",
            "    ---------------------------|-----------------\n",
            "    dbus-1.13.14               |       hb2f20db_0         590 KB\n",
            "    cycler-0.10.0              |           py36_0          13 KB\n",
            "    pcre-8.43                  |       he6710b0_0         260 KB\n",
            "    tornado-6.0.4              |   py36h7b6447c_1         650 KB\n",
            "    libxml2-2.9.9              |       hea5a465_1         2.0 MB\n",
            "    gstreamer-1.14.0           |       hb31296c_0         3.7 MB\n",
            "    pyparsing-2.4.7            |             py_0          64 KB\n",
            "    gst-plugins-base-1.14.0    |       hbbd80ab_1         6.3 MB\n",
            "    libpng-1.6.37              |       hbc83047_0         364 KB\n",
            "    jpeg-9b                    |       h024ee3a_2         248 KB\n",
            "    freetype-2.9.1             |       h8a8886c_1         822 KB\n",
            "    qt-5.9.7                   |       h5867ecd_1        85.9 MB\n",
            "    matplotlib-3.1.3           |           py36_0          21 KB\n",
            "    python-dateutil-2.8.1      |             py_0         224 KB\n",
            "    glib-2.63.1                |       h3eb4bd4_1         3.4 MB\n",
            "    pyqt-5.9.2                 |   py36h05f1152_2         5.6 MB\n",
            "    matplotlib-base-3.1.3      |   py36hef1b27d_0         6.6 MB\n",
            "    expat-2.2.6                |       he6710b0_0         187 KB\n",
            "    libxcb-1.13                |       h1bed415_1         502 KB\n",
            "    sip-4.19.8                 |   py36hf484d3e_0         290 KB\n",
            "    fontconfig-2.13.0          |       h9420a91_0         291 KB\n",
            "    kiwisolver-1.2.0           |   py36hfd86e86_0          91 KB\n",
            "    libuuid-1.0.3              |       h1bed415_2          16 KB\n",
            "    icu-58.2                   |       he6710b0_3        22.7 MB\n",
            "    ------------------------------------------------------------\n",
            "                                           Total:       140.7 MB\n",
            "\n",
            "The following NEW packages will be INSTALLED:\n",
            "\n",
            "    cycler:           0.10.0-py36_0        \n",
            "    dbus:             1.13.14-hb2f20db_0   \n",
            "    expat:            2.2.6-he6710b0_0     \n",
            "    fontconfig:       2.13.0-h9420a91_0    \n",
            "    freetype:         2.9.1-h8a8886c_1     \n",
            "    glib:             2.63.1-h3eb4bd4_1    \n",
            "    gst-plugins-base: 1.14.0-hbbd80ab_1    \n",
            "    gstreamer:        1.14.0-hb31296c_0    \n",
            "    icu:              58.2-he6710b0_3      \n",
            "    jpeg:             9b-h024ee3a_2        \n",
            "    kiwisolver:       1.2.0-py36hfd86e86_0 \n",
            "    libpng:           1.6.37-hbc83047_0    \n",
            "    libuuid:          1.0.3-h1bed415_2     \n",
            "    libxcb:           1.13-h1bed415_1      \n",
            "    libxml2:          2.9.9-hea5a465_1     \n",
            "    matplotlib:       3.1.3-py36_0         \n",
            "    matplotlib-base:  3.1.3-py36hef1b27d_0 \n",
            "    pcre:             8.43-he6710b0_0      \n",
            "    pyparsing:        2.4.7-py_0           \n",
            "    pyqt:             5.9.2-py36h05f1152_2 \n",
            "    python-dateutil:  2.8.1-py_0           \n",
            "    qt:               5.9.7-h5867ecd_1     \n",
            "    sip:              4.19.8-py36hf484d3e_0\n",
            "    tornado:          6.0.4-py36h7b6447c_1 \n",
            "\n",
            "\n",
            "Downloading and Extracting Packages\n",
            "dbus-1.13.14         |  590 KB | : 100% 1.0/1 [00:00<00:00,  7.26it/s]               \n",
            "cycler-0.10.0        |   13 KB | : 100% 1.0/1 [00:00<00:00, 28.51it/s]\n",
            "pcre-8.43            |  260 KB | : 100% 1.0/1 [00:00<00:00, 15.30it/s]\n",
            "tornado-6.0.4        |  650 KB | : 100% 1.0/1 [00:00<00:00,  5.53it/s]               \n",
            "libxml2-2.9.9        |  2.0 MB | : 100% 1.0/1 [00:00<00:00,  2.02it/s]               \n",
            "gstreamer-1.14.0     |  3.7 MB | : 100% 1.0/1 [00:00<00:00,  1.71it/s]               \n",
            "pyparsing-2.4.7      |   64 KB | : 100% 1.0/1 [00:00<00:00, 20.36it/s]\n",
            "gst-plugins-base-1.1 |  6.3 MB | : 100% 1.0/1 [00:00<00:00,  1.07it/s]               \n",
            "libpng-1.6.37        |  364 KB | : 100% 1.0/1 [00:00<00:00, 12.95it/s]\n",
            "jpeg-9b              |  248 KB | : 100% 1.0/1 [00:00<00:00, 10.17it/s]\n",
            "freetype-2.9.1       |  822 KB | : 100% 1.0/1 [00:00<00:00,  6.12it/s]              \n",
            "qt-5.9.7             | 85.9 MB | : 100% 1.0/1 [00:15<00:00, 15.26s/it]               \n",
            "matplotlib-3.1.3     |   21 KB | : 100% 1.0/1 [00:00<00:00, 42.08it/s]\n",
            "python-dateutil-2.8. |  224 KB | : 100% 1.0/1 [00:00<00:00, 17.71it/s]\n",
            "glib-2.63.1          |  3.4 MB | : 100% 1.0/1 [00:00<00:00,  1.31it/s]               \n",
            "pyqt-5.9.2           |  5.6 MB | : 100% 1.0/1 [00:01<00:00,  1.40s/it]               \n",
            "matplotlib-base-3.1. |  6.6 MB | : 100% 1.0/1 [00:01<00:00,  1.19s/it]              \n",
            "expat-2.2.6          |  187 KB | : 100% 1.0/1 [00:00<00:00, 20.09it/s]\n",
            "libxcb-1.13          |  502 KB | : 100% 1.0/1 [00:00<00:00,  5.22it/s]               \n",
            "sip-4.19.8           |  290 KB | : 100% 1.0/1 [00:00<00:00, 15.72it/s]\n",
            "fontconfig-2.13.0    |  291 KB | : 100% 1.0/1 [00:00<00:00, 10.71it/s]\n",
            "kiwisolver-1.2.0     |   91 KB | : 100% 1.0/1 [00:00<00:00, 33.58it/s]\n",
            "libuuid-1.0.3        |   16 KB | : 100% 1.0/1 [00:00<00:00, 44.28it/s]\n",
            "icu-58.2             | 22.7 MB | : 100% 1.0/1 [00:03<00:00,  3.53s/it]               \n",
            "Preparing transaction: - \b\b\\ \b\b| \b\b/ \b\bdone\n",
            "Verifying transaction: \\ \b\b| \b\b/ \b\b- \b\b\\ \b\b| \b\b/ \b\b- \b\b\\ \b\b| \b\b/ \b\b- \b\b\\ \b\b| \b\b/ \b\b- \b\b\\ \b\b| \b\b/ \b\b- \b\b\\ \b\b| \b\b/ \b\b- \b\b\\ \b\b| \b\b/ \b\b- \b\b\\ \b\b| \b\b/ \b\b- \b\b\\ \b\b| \b\b/ \b\bdone\n",
            "Executing transaction: \\ \b\b| \b\b/ \b\b- \b\b\\ \b\b| \b\b/ \b\b- \b\b\\ \b\b| \b\b/ \b\b- \b\b\\ \b\b| \b\b/ \b\b- \b\b\\ \b\b| \b\bdone\n"
          ],
          "name": "stdout"
        }
      ]
    },
    {
      "cell_type": "code",
      "metadata": {
        "id": "iB2RPMBD4jJR",
        "colab_type": "code",
        "colab": {
          "base_uri": "https://localhost:8080/",
          "height": 191
        },
        "outputId": "4213fa15-75db-44e7-bd0f-2598a6a3ff10"
      },
      "source": [
        "! ./qg_reproduce_LS.sh"
      ],
      "execution_count": 33,
      "outputs": [
        {
          "output_type": "stream",
          "text": [
            "Traceback (most recent call last):\n",
            "  File \"../OpenNMT-py/generate.py\", line 357, in <module>\n",
            "    main()\n",
            "  File \"../OpenNMT-py/generate.py\", line 67, in main\n",
            "    onmt.ModelConstructor.load_test_model(opt, dummy_opt.__dict__)\n",
            "  File \"/content/QG-Net/OpenNMT-py/onmt/ModelConstructor.py\", line 123, in load_test_model\n",
            "    map_location=lambda storage, loc: storage)\n",
            "  File \"/usr/local/lib/python3.6/site-packages/torch/serialization.py\", line 356, in load\n",
            "    f = open(f, 'rb')\n",
            "FileNotFoundError: [Errno 2] No such file or directory: 'models.for.test/LSTM-attn.pt'\n"
          ],
          "name": "stdout"
        }
      ]
    },
    {
      "cell_type": "code",
      "metadata": {
        "id": "srIYC5F_42-G",
        "colab_type": "code",
        "colab": {
          "base_uri": "https://localhost:8080/",
          "height": 34
        },
        "outputId": "a73f7f5f-2253-4bac-c3dc-02118db8d28e"
      },
      "source": [
        "%cd test/\n"
      ],
      "execution_count": 34,
      "outputs": [
        {
          "output_type": "stream",
          "text": [
            "/content/QG-Net\n"
          ],
          "name": "stdout"
        }
      ]
    },
    {
      "cell_type": "code",
      "metadata": {
        "id": "rOqV9Fh85tb-",
        "colab_type": "code",
        "colab": {
          "base_uri": "https://localhost:8080/",
          "height": 923
        },
        "outputId": "1180e44a-f33a-4a3d-c7da-73a8e8f91ff1"
      },
      "source": [
        "! bash download_baselines.sh"
      ],
      "execution_count": 35,
      "outputs": [
        {
          "output_type": "stream",
          "text": [
            "--2020-06-04 15:15:46--  https://rice.box.com/shared/static/1ljzn157vg7fisilfvbsx318453sy86b.pt\n",
            "Resolving rice.box.com (rice.box.com)... 103.116.4.197\n",
            "Connecting to rice.box.com (rice.box.com)|103.116.4.197|:443... connected.\n",
            "HTTP request sent, awaiting response... 301 Moved Permanently\n",
            "Location: /public/static/1ljzn157vg7fisilfvbsx318453sy86b.pt [following]\n",
            "--2020-06-04 15:15:46--  https://rice.box.com/public/static/1ljzn157vg7fisilfvbsx318453sy86b.pt\n",
            "Reusing existing connection to rice.box.com:443.\n",
            "HTTP request sent, awaiting response... 301 Moved Permanently\n",
            "Location: https://rice.app.box.com/public/static/1ljzn157vg7fisilfvbsx318453sy86b.pt [following]\n",
            "--2020-06-04 15:15:47--  https://rice.app.box.com/public/static/1ljzn157vg7fisilfvbsx318453sy86b.pt\n",
            "Resolving rice.app.box.com (rice.app.box.com)... 103.116.4.201\n",
            "Connecting to rice.app.box.com (rice.app.box.com)|103.116.4.201|:443... connected.\n",
            "HTTP request sent, awaiting response... 302 Found\n",
            "Location: https://public.boxcloud.com/d/1/b1!ckrGr2OKM-7pnOqrFECL3UZ-YDHBcnMjMhCBt9D-yBSWPZGprbyvqvCtDW_I5k_IRVkV9sL3Lb9veAeQVR6DmU-gZKjPtram6ohlnwnHfQBx-7GyY0udmDBwXiOUTkGttANDCxgGJ4d0nRZXO4FdNsrXqcZ16B5skGfITU7QLqUmHRgEboYXmLeFxJntFkwv9dfWRuubv1ah0_tTRUrCQqfHjJF6ZcOT9qJy1oN9hnvNQIQ1iGjUVLJjp7tYWVu1z5Yi96Xd_ZFyPjylNAGqhB6zWRhjNUy80EmSQaLJk5Rwwxfe5R3x0CXFOa9HGW5wJSkwGWZBAjdzrAZ529XL6CyaMWVaSxeWnLGXv-a_ce7E0a0CCB4aUJfBH4-eYjG0AFPyznArkRIymLdwWKVCSGUmyG4bBSVUzX9sPLxca_jCYJJfT0UJpJvejyJZPt9txT2fWr2RnWe4lkvrXnpkmAQLTzP2Sy_Gvh3M_WMGweMq8jwcpMVvVKDk_3yQzE9iKZ1QoA5rW6sImHTymtVAFjvL8yVQ_4Ih5FG40nb7qemb1zRLrTkTSp7fjm6aNic9qqNv2PzRp-7kZ3QSx3XY0lT6bD_BMzDqpD-jZfzIYG-K5PuJjl_U3Z1u2DovayaT_XGYV7pR0VQFI4UAaQDArE0eILffBwUO2PdU5w60QK994CcSP_ccVcd9lQaPWzFtRJHxfaToLyKd18YUjH4tj_2AFDPso3Q-mktpNQtwl9D_wlKayFrg7oEZ80TFtx9EuGuwUXkB0YTwCyQPiYJt11FGrNFrWE6N4OIXmue_S_qNe2rooMGJfv2mBBu8n5W4vYndu1_vb9WsCgYuvAnReLhbg-uqdMuvulhDzzaH7XMHQ4Ufevg8pxJ3oinloD9htWuL6NZ2BZa1wlf-CJkeN1yVSccHmx92uL5CI5D-YXIlGUICKlVAyupIzXGm3GFt-ASGEP-Z6WnBWtl47HUi5CaGxm_PKT33Wm2D2Twz8FgrFI8mXQPBcLL0WStwQZaQiBgkJMqEYGGE8OAzyvwr6LMkr8gRrzBeCUXpRsu6wmrNgakxEoaTX1rYZqcBgxMdEjfBCe9ubvqeQiGTkK6zXbeCMIXBawmLgbR3e_bNVgRzQbJYL4ha-JvJw5NI_86GvyzfBuLupd-10IK1ckB9Z64UEQGZHUn6ZCZQTsVk3rWUcSc2_w8Sbin6eAaYxXCoWIUHz6APOSmdbvcmdbThY2tFTFUK3_MyjtpHRs4ahXIF0XkjbeGUvwzqeCvI_C71fAGWzcyaQ7JfVCOEzhfg7h0kr_ttOfb8RgFKCAiRUhdumSmh-svM8BGHk1TCcY_hSmuYErn3SOB3RpKs8sDTQ9JUYVceZJQkfAvd1lkVFwf9IvJWPuN83qajE1pkmXEXqmg./download [following]\n",
            "--2020-06-04 15:15:47--  https://public.boxcloud.com/d/1/b1!ckrGr2OKM-7pnOqrFECL3UZ-YDHBcnMjMhCBt9D-yBSWPZGprbyvqvCtDW_I5k_IRVkV9sL3Lb9veAeQVR6DmU-gZKjPtram6ohlnwnHfQBx-7GyY0udmDBwXiOUTkGttANDCxgGJ4d0nRZXO4FdNsrXqcZ16B5skGfITU7QLqUmHRgEboYXmLeFxJntFkwv9dfWRuubv1ah0_tTRUrCQqfHjJF6ZcOT9qJy1oN9hnvNQIQ1iGjUVLJjp7tYWVu1z5Yi96Xd_ZFyPjylNAGqhB6zWRhjNUy80EmSQaLJk5Rwwxfe5R3x0CXFOa9HGW5wJSkwGWZBAjdzrAZ529XL6CyaMWVaSxeWnLGXv-a_ce7E0a0CCB4aUJfBH4-eYjG0AFPyznArkRIymLdwWKVCSGUmyG4bBSVUzX9sPLxca_jCYJJfT0UJpJvejyJZPt9txT2fWr2RnWe4lkvrXnpkmAQLTzP2Sy_Gvh3M_WMGweMq8jwcpMVvVKDk_3yQzE9iKZ1QoA5rW6sImHTymtVAFjvL8yVQ_4Ih5FG40nb7qemb1zRLrTkTSp7fjm6aNic9qqNv2PzRp-7kZ3QSx3XY0lT6bD_BMzDqpD-jZfzIYG-K5PuJjl_U3Z1u2DovayaT_XGYV7pR0VQFI4UAaQDArE0eILffBwUO2PdU5w60QK994CcSP_ccVcd9lQaPWzFtRJHxfaToLyKd18YUjH4tj_2AFDPso3Q-mktpNQtwl9D_wlKayFrg7oEZ80TFtx9EuGuwUXkB0YTwCyQPiYJt11FGrNFrWE6N4OIXmue_S_qNe2rooMGJfv2mBBu8n5W4vYndu1_vb9WsCgYuvAnReLhbg-uqdMuvulhDzzaH7XMHQ4Ufevg8pxJ3oinloD9htWuL6NZ2BZa1wlf-CJkeN1yVSccHmx92uL5CI5D-YXIlGUICKlVAyupIzXGm3GFt-ASGEP-Z6WnBWtl47HUi5CaGxm_PKT33Wm2D2Twz8FgrFI8mXQPBcLL0WStwQZaQiBgkJMqEYGGE8OAzyvwr6LMkr8gRrzBeCUXpRsu6wmrNgakxEoaTX1rYZqcBgxMdEjfBCe9ubvqeQiGTkK6zXbeCMIXBawmLgbR3e_bNVgRzQbJYL4ha-JvJw5NI_86GvyzfBuLupd-10IK1ckB9Z64UEQGZHUn6ZCZQTsVk3rWUcSc2_w8Sbin6eAaYxXCoWIUHz6APOSmdbvcmdbThY2tFTFUK3_MyjtpHRs4ahXIF0XkjbeGUvwzqeCvI_C71fAGWzcyaQ7JfVCOEzhfg7h0kr_ttOfb8RgFKCAiRUhdumSmh-svM8BGHk1TCcY_hSmuYErn3SOB3RpKs8sDTQ9JUYVceZJQkfAvd1lkVFwf9IvJWPuN83qajE1pkmXEXqmg./download\n",
            "Resolving public.boxcloud.com (public.boxcloud.com)... 107.152.25.200\n",
            "Connecting to public.boxcloud.com (public.boxcloud.com)|107.152.25.200|:443... connected.\n",
            "HTTP request sent, awaiting response... 200 OK\n",
            "Length: 436890902 (417M) [application/octet-stream]\n",
            "Saving to: ‘LSTM-attn.pt’\n",
            "\n",
            "LSTM-attn.pt        100%[===================>] 416.65M  12.3MB/s    in 34s     \n",
            "\n",
            "2020-06-04 15:16:23 (12.2 MB/s) - ‘LSTM-attn.pt’ saved [436890902/436890902]\n",
            "\n",
            "--2020-06-04 15:16:23--  https://rice.box.com/shared/static/7v1zifdbjkpqimldjysd79uktjvfpj5m.pt\n",
            "Resolving rice.box.com (rice.box.com)... 103.116.4.197\n",
            "Connecting to rice.box.com (rice.box.com)|103.116.4.197|:443... connected.\n",
            "HTTP request sent, awaiting response... 301 Moved Permanently\n",
            "Location: /public/static/7v1zifdbjkpqimldjysd79uktjvfpj5m.pt [following]\n",
            "--2020-06-04 15:16:23--  https://rice.box.com/public/static/7v1zifdbjkpqimldjysd79uktjvfpj5m.pt\n",
            "Reusing existing connection to rice.box.com:443.\n",
            "HTTP request sent, awaiting response... 301 Moved Permanently\n",
            "Location: https://rice.app.box.com/public/static/7v1zifdbjkpqimldjysd79uktjvfpj5m.pt [following]\n",
            "--2020-06-04 15:16:23--  https://rice.app.box.com/public/static/7v1zifdbjkpqimldjysd79uktjvfpj5m.pt\n",
            "Resolving rice.app.box.com (rice.app.box.com)... 103.116.4.201\n",
            "Connecting to rice.app.box.com (rice.app.box.com)|103.116.4.201|:443... connected.\n",
            "HTTP request sent, awaiting response... 302 Found\n",
            "Location: https://public.boxcloud.com/d/1/b1!Mm2R9ANXa7GQXNK6DYIiQNcSbmw3rmXX0MAMURcqlC9bDRLnDUHrWvK1cvTDpxeoi3dr3on7eTvXrXX6WFjZA-jRnw2XLYGMsFMXTj530-VwF7E1Tej0_MYR5cjgBN5CVVdHdUMz3kb_2qlJqYaYerRidVMWkbMWLkCZwIxR4L3vtVxWn6PMFDEw2vqk9D5xeB_b-LMiVmnoliqJGhOuot75Tatd-q9xjVKkjGXJaMqIX_D6LKd2ArbURxKe0OhpWHl8u6n40zHUjl9KKLcn303GKsYUgEPNCBvAu4fbutCYKDgrRNLK_vLHKsB4Q0FuScD0Kg417gHLcQeSoNuuPh-f8Fq0ZOFuNZKFPvTQvwQ-6dfK9H8QqdXoy5T_GhQga-13xuSvg_fEzMo444YkQ_p7Le0XPa7h_FnNX0ng6J7wUWfi867DBVtcQ7rvyAlzmhA4HOCdVNnd8NAowofnaIgMkd0J2EBZ3TXSBSPK66iTGavRpgGg0IvhN73OVe_DqybpfUyFL8lW3oxV1nbiEAPVAVswNByxttQ6c_MYyU2mc3LStDmvNRJFO3ToHfSjmf80QI1NEm6-itY6R88niWN6Ma3WKhFX0lnQwAELq84MXH5-OI_YfffEvpeMKselOsulh_0dBvxx61WJB4cD_O3wkh3RcJ6dFQawRAPGiOFUJL-hP78JcUnDc2J8RzbGcNxuzgO3qSCCWVKjCtpnGFvXZbLJkHEZbM6iK3ZzNA-XYOo_JtKlwQJO9xppKp0RnYVjmh89GDP7Aft6ZFsnnon50naF7kPpeJz6ZFm43JFv-piDT8ia90CNbK2rPluLcI3Jsb3Ac0XVIDiInpgVk4_juNS5ox2dEIS4sn8sNxGtd8WokoCF6hnH2nqjhEDM7sBMgwoNtsbLbwZwgZWYG316yzXSA6_XXI0dSYV6pCeEtC5m_BwD6msFCg_Uzb0wtoVC4tql4SIsELCp8s1SZ96IIISE-cmHeWi4az-Fl9_ijUGzAVsu1ixnxqdMr3fRCAkynp8flHSrrI4HBJAtwgKvQlwlGfYJn5wsEm3dKTdf0mgp0tArfh7Q-YR0MvqHJwQ4AWcXXO4DyML1kV9RESt5svA_4BAuOx-V3MXX2iWdEeuRcBRrlAWX7BVly5jXMU4exYrS8z3oU35vurO93l_dxTgEO8Lp98kQ4uvjfez-WRteHOI87uOJcHqMZQ8W5OcyNdP9vnOPNIJ13VgUAvOwYB9_NOnq0qp_Ie852qKBsmJO-tzTdscECUM09bPKRVzir4to5bzdyGg6pCIpGn8uu_8mDK7k8rRZaZ6v3NvS6zZjkY_Nrk4E3CNzP-0LAf33C1EF_lBXcGJhzD8WT-WuoBVZtVMWloLkKMxDVA0OPfkTZ4eVL3qIgAMsKWWQvVe1reeZ/download [following]\n",
            "--2020-06-04 15:16:24--  https://public.boxcloud.com/d/1/b1!Mm2R9ANXa7GQXNK6DYIiQNcSbmw3rmXX0MAMURcqlC9bDRLnDUHrWvK1cvTDpxeoi3dr3on7eTvXrXX6WFjZA-jRnw2XLYGMsFMXTj530-VwF7E1Tej0_MYR5cjgBN5CVVdHdUMz3kb_2qlJqYaYerRidVMWkbMWLkCZwIxR4L3vtVxWn6PMFDEw2vqk9D5xeB_b-LMiVmnoliqJGhOuot75Tatd-q9xjVKkjGXJaMqIX_D6LKd2ArbURxKe0OhpWHl8u6n40zHUjl9KKLcn303GKsYUgEPNCBvAu4fbutCYKDgrRNLK_vLHKsB4Q0FuScD0Kg417gHLcQeSoNuuPh-f8Fq0ZOFuNZKFPvTQvwQ-6dfK9H8QqdXoy5T_GhQga-13xuSvg_fEzMo444YkQ_p7Le0XPa7h_FnNX0ng6J7wUWfi867DBVtcQ7rvyAlzmhA4HOCdVNnd8NAowofnaIgMkd0J2EBZ3TXSBSPK66iTGavRpgGg0IvhN73OVe_DqybpfUyFL8lW3oxV1nbiEAPVAVswNByxttQ6c_MYyU2mc3LStDmvNRJFO3ToHfSjmf80QI1NEm6-itY6R88niWN6Ma3WKhFX0lnQwAELq84MXH5-OI_YfffEvpeMKselOsulh_0dBvxx61WJB4cD_O3wkh3RcJ6dFQawRAPGiOFUJL-hP78JcUnDc2J8RzbGcNxuzgO3qSCCWVKjCtpnGFvXZbLJkHEZbM6iK3ZzNA-XYOo_JtKlwQJO9xppKp0RnYVjmh89GDP7Aft6ZFsnnon50naF7kPpeJz6ZFm43JFv-piDT8ia90CNbK2rPluLcI3Jsb3Ac0XVIDiInpgVk4_juNS5ox2dEIS4sn8sNxGtd8WokoCF6hnH2nqjhEDM7sBMgwoNtsbLbwZwgZWYG316yzXSA6_XXI0dSYV6pCeEtC5m_BwD6msFCg_Uzb0wtoVC4tql4SIsELCp8s1SZ96IIISE-cmHeWi4az-Fl9_ijUGzAVsu1ixnxqdMr3fRCAkynp8flHSrrI4HBJAtwgKvQlwlGfYJn5wsEm3dKTdf0mgp0tArfh7Q-YR0MvqHJwQ4AWcXXO4DyML1kV9RESt5svA_4BAuOx-V3MXX2iWdEeuRcBRrlAWX7BVly5jXMU4exYrS8z3oU35vurO93l_dxTgEO8Lp98kQ4uvjfez-WRteHOI87uOJcHqMZQ8W5OcyNdP9vnOPNIJ13VgUAvOwYB9_NOnq0qp_Ie852qKBsmJO-tzTdscECUM09bPKRVzir4to5bzdyGg6pCIpGn8uu_8mDK7k8rRZaZ6v3NvS6zZjkY_Nrk4E3CNzP-0LAf33C1EF_lBXcGJhzD8WT-WuoBVZtVMWloLkKMxDVA0OPfkTZ4eVL3qIgAMsKWWQvVe1reeZ/download\n",
            "Resolving public.boxcloud.com (public.boxcloud.com)... 107.152.25.200\n",
            "Connecting to public.boxcloud.com (public.boxcloud.com)|107.152.25.200|:443... connected.\n",
            "HTTP request sent, awaiting response... 200 OK\n",
            "Length: 442155921 (422M) [application/octet-stream]\n",
            "Saving to: ‘QG-Net-nofeat.pt’\n",
            "\n",
            "QG-Net-nofeat.pt    100%[===================>] 421.67M  11.0MB/s    in 36s     \n",
            "\n",
            "2020-06-04 15:17:01 (11.7 MB/s) - ‘QG-Net-nofeat.pt’ saved [442155921/442155921]\n",
            "\n",
            "download completed.\n"
          ],
          "name": "stdout"
        }
      ]
    },
    {
      "cell_type": "code",
      "metadata": {
        "id": "rzyUfm8l5vzj",
        "colab_type": "code",
        "colab": {
          "base_uri": "https://localhost:8080/",
          "height": 34
        },
        "outputId": "4f1045ce-3cef-43f9-83bf-6aa3dd9846f6"
      },
      "source": [
        "%cd test/"
      ],
      "execution_count": 36,
      "outputs": [
        {
          "output_type": "stream",
          "text": [
            "/content/QG-Net/test\n"
          ],
          "name": "stdout"
        }
      ]
    },
    {
      "cell_type": "code",
      "metadata": {
        "id": "Bj8LVm5E6HJS",
        "colab_type": "code",
        "colab": {
          "base_uri": "https://localhost:8080/",
          "height": 607
        },
        "outputId": "7bcba945-1223-40e5-cf49-50cd1367fbba"
      },
      "source": [
        "! ./qg_reproduce_LS.sh"
      ],
      "execution_count": 37,
      "outputs": [
        {
          "output_type": "stream",
          "text": [
            "Loading model parameters.\n",
            "  0% 0/11 [00:00<?, ?it/s]/usr/local/lib/python3.6/site-packages/torchtext/data/field.py:197: UserWarning: volatile was removed and now has no effect. Use `with torch.no_grad():` instead.\n",
            "  return Variable(arr, volatile=not train), lengths\n",
            "/usr/local/lib/python3.6/site-packages/torchtext/data/field.py:198: UserWarning: volatile was removed and now has no effect. Use `with torch.no_grad():` instead.\n",
            "  return Variable(arr, volatile=not train)\n",
            "/content/QG-Net/OpenNMT-py/onmt/translate/Translator.py:51: UserWarning: volatile was removed and now has no effect. Use `with torch.no_grad():` instead.\n",
            "  def var(a): return Variable(a, volatile=True)\n",
            "/content/QG-Net/OpenNMT-py/onmt/Models.py:507: UserWarning: volatile was removed and now has no effect. Use `with torch.no_grad():` instead.\n",
            "  for e in self._all]\n",
            "/content/QG-Net/OpenNMT-py/onmt/modules/GlobalAttention.py:143: UserWarning: Implicit dimension choice for softmax has been deprecated. Change the call to include dim=X as an argument.\n",
            "  align_vectors = self.sm(align.view(batch*targetL, sourceL))\n",
            "/usr/local/lib/python3.6/site-packages/torch/nn/modules/container.py:91: UserWarning: Implicit dimension choice for log_softmax has been deprecated. Change the call to include dim=X as an argument.\n",
            "  input = module(input)\n",
            "  0% 0/11 [00:00<?, ?it/s]\n",
            "Traceback (most recent call last):\n",
            "  File \"../OpenNMT-py/generate.py\", line 357, in <module>\n",
            "    main()\n",
            "  File \"../OpenNMT-py/generate.py\", line 198, in main\n",
            "    \"(\" + opt.src.split('/')[1] + \").png\")\n",
            "  File \"/usr/local/lib/python3.6/site-packages/matplotlib/pyplot.py\", line 729, in savefig\n",
            "    res = fig.savefig(*args, **kwargs)\n",
            "  File \"/usr/local/lib/python3.6/site-packages/matplotlib/figure.py\", line 2180, in savefig\n",
            "    self.canvas.print_figure(fname, **kwargs)\n",
            "  File \"/usr/local/lib/python3.6/site-packages/matplotlib/backend_bases.py\", line 2091, in print_figure\n",
            "    **kwargs)\n",
            "  File \"/usr/local/lib/python3.6/site-packages/matplotlib/backends/backend_agg.py\", line 530, in print_png\n",
            "    cbook.open_file_cm(filename_or_obj, \"wb\") as fh:\n",
            "  File \"/usr/local/lib/python3.6/contextlib.py\", line 81, in __enter__\n",
            "    return next(self.gen)\n",
            "  File \"/usr/local/lib/python3.6/site-packages/matplotlib/cbook/__init__.py\", line 447, in open_file_cm\n",
            "    fh, opened = to_filehandle(path_or_file, mode, True, encoding)\n",
            "  File \"/usr/local/lib/python3.6/site-packages/matplotlib/cbook/__init__.py\", line 432, in to_filehandle\n",
            "    fh = open(fname, flag, encoding=encoding)\n",
            "FileNotFoundError: [Errno 2] No such file or directory: 'attention_visualizations_LSTM_attn/attn_vis_1(input.txt).png'\n"
          ],
          "name": "stdout"
        }
      ]
    },
    {
      "cell_type": "code",
      "metadata": {
        "id": "mQ6JgUlQ6K8x",
        "colab_type": "code",
        "colab": {}
      },
      "source": [
        ""
      ],
      "execution_count": 0,
      "outputs": []
    }
  ]
}